{
 "cells": [
  {
   "attachments": {},
   "cell_type": "markdown",
   "metadata": {},
   "source": [
    "## Modeling prior predictive distribution"
   ]
  },
  {
   "cell_type": "code",
   "execution_count": 2,
   "metadata": {},
   "outputs": [
    {
     "name": "stderr",
     "output_type": "stream",
     "text": [
      "/usr/local/lib/python3.9/site-packages/tqdm/auto.py:22: TqdmWarning: IProgress not found. Please update jupyter and ipywidgets. See https://ipywidgets.readthedocs.io/en/stable/user_install.html\n",
      "  from .autonotebook import tqdm as notebook_tqdm\n",
      "INFO:cmdstanpy:found newer exe file, not recompiling\n",
      "INFO:cmdstanpy:CmdStan start processing\n",
      "chain 1 |\u001b[34m██████████\u001b[0m| 00:00 Sampling completed                      "
     ]
    },
    {
     "name": "stdout",
     "output_type": "stream",
     "text": [
      "                                                                                "
     ]
    },
    {
     "name": "stderr",
     "output_type": "stream",
     "text": [
      "\n",
      "INFO:cmdstanpy:CmdStan done processing.\n"
     ]
    },
    {
     "name": "stdout",
     "output_type": "stream",
     "text": [
      "\n"
     ]
    }
   ],
   "source": [
    "import cmdstanpy\n",
    "import matplotlib.pyplot as plt\n",
    "import seaborn as sns\n",
    "import numpy as np\n",
    "\n",
    "num_samples = 1000\n",
    "\n",
    "# Compile the Stan model\n",
    "model1 = cmdstanpy.CmdStanModel(stan_file='/home/3_Prior_and_Posterior_predictive_distributions/stan_model1.stan')\n",
    "\n",
    "samples1 = model1.sample(data={\"N\":50},\n",
    "                        fixed_param=True, \n",
    "                        iter_sampling=num_samples, \n",
    "                        iter_warmup=0, \n",
    "                        chains = 1)"
   ]
  },
  {
   "cell_type": "code",
   "execution_count": 3,
   "metadata": {},
   "outputs": [
    {
     "data": {
      "text/html": [
       "<div>\n",
       "<style scoped>\n",
       "    .dataframe tbody tr th:only-of-type {\n",
       "        vertical-align: middle;\n",
       "    }\n",
       "\n",
       "    .dataframe tbody tr th {\n",
       "        vertical-align: top;\n",
       "    }\n",
       "\n",
       "    .dataframe thead th {\n",
       "        text-align: right;\n",
       "    }\n",
       "</style>\n",
       "<table border=\"1\" class=\"dataframe\">\n",
       "  <thead>\n",
       "    <tr style=\"text-align: right;\">\n",
       "      <th></th>\n",
       "      <th>lp__</th>\n",
       "      <th>accept_stat__</th>\n",
       "      <th>y</th>\n",
       "      <th>p</th>\n",
       "    </tr>\n",
       "  </thead>\n",
       "  <tbody>\n",
       "    <tr>\n",
       "      <th>0</th>\n",
       "      <td>0.0</td>\n",
       "      <td>0.0</td>\n",
       "      <td>11.0</td>\n",
       "      <td>0.158566</td>\n",
       "    </tr>\n",
       "    <tr>\n",
       "      <th>1</th>\n",
       "      <td>0.0</td>\n",
       "      <td>0.0</td>\n",
       "      <td>1.0</td>\n",
       "      <td>0.012287</td>\n",
       "    </tr>\n",
       "    <tr>\n",
       "      <th>2</th>\n",
       "      <td>0.0</td>\n",
       "      <td>0.0</td>\n",
       "      <td>7.0</td>\n",
       "      <td>0.180746</td>\n",
       "    </tr>\n",
       "    <tr>\n",
       "      <th>3</th>\n",
       "      <td>0.0</td>\n",
       "      <td>0.0</td>\n",
       "      <td>18.0</td>\n",
       "      <td>0.312993</td>\n",
       "    </tr>\n",
       "    <tr>\n",
       "      <th>4</th>\n",
       "      <td>0.0</td>\n",
       "      <td>0.0</td>\n",
       "      <td>9.0</td>\n",
       "      <td>0.136967</td>\n",
       "    </tr>\n",
       "  </tbody>\n",
       "</table>\n",
       "</div>"
      ],
      "text/plain": [
       "   lp__  accept_stat__     y         p\n",
       "0   0.0            0.0  11.0  0.158566\n",
       "1   0.0            0.0   1.0  0.012287\n",
       "2   0.0            0.0   7.0  0.180746\n",
       "3   0.0            0.0  18.0  0.312993\n",
       "4   0.0            0.0   9.0  0.136967"
      ]
     },
     "execution_count": 3,
     "metadata": {},
     "output_type": "execute_result"
    }
   ],
   "source": [
    "samples_df1 = samples1.draws_pd()\n",
    "samples_df1.head()"
   ]
  },
  {
   "cell_type": "code",
   "execution_count": 4,
   "metadata": {},
   "outputs": [
    {
     "data": {
      "text/html": [
       "<div>\n",
       "<style scoped>\n",
       "    .dataframe tbody tr th:only-of-type {\n",
       "        vertical-align: middle;\n",
       "    }\n",
       "\n",
       "    .dataframe tbody tr th {\n",
       "        vertical-align: top;\n",
       "    }\n",
       "\n",
       "    .dataframe thead th {\n",
       "        text-align: right;\n",
       "    }\n",
       "</style>\n",
       "<table border=\"1\" class=\"dataframe\">\n",
       "  <thead>\n",
       "    <tr style=\"text-align: right;\">\n",
       "      <th></th>\n",
       "      <th>lp__</th>\n",
       "      <th>accept_stat__</th>\n",
       "      <th>y</th>\n",
       "      <th>p</th>\n",
       "      <th>ratio</th>\n",
       "    </tr>\n",
       "  </thead>\n",
       "  <tbody>\n",
       "    <tr>\n",
       "      <th>0</th>\n",
       "      <td>0.0</td>\n",
       "      <td>0.0</td>\n",
       "      <td>11.0</td>\n",
       "      <td>0.158566</td>\n",
       "      <td>0.22</td>\n",
       "    </tr>\n",
       "    <tr>\n",
       "      <th>1</th>\n",
       "      <td>0.0</td>\n",
       "      <td>0.0</td>\n",
       "      <td>1.0</td>\n",
       "      <td>0.012287</td>\n",
       "      <td>0.02</td>\n",
       "    </tr>\n",
       "    <tr>\n",
       "      <th>2</th>\n",
       "      <td>0.0</td>\n",
       "      <td>0.0</td>\n",
       "      <td>7.0</td>\n",
       "      <td>0.180746</td>\n",
       "      <td>0.14</td>\n",
       "    </tr>\n",
       "    <tr>\n",
       "      <th>3</th>\n",
       "      <td>0.0</td>\n",
       "      <td>0.0</td>\n",
       "      <td>18.0</td>\n",
       "      <td>0.312993</td>\n",
       "      <td>0.36</td>\n",
       "    </tr>\n",
       "    <tr>\n",
       "      <th>4</th>\n",
       "      <td>0.0</td>\n",
       "      <td>0.0</td>\n",
       "      <td>9.0</td>\n",
       "      <td>0.136967</td>\n",
       "      <td>0.18</td>\n",
       "    </tr>\n",
       "  </tbody>\n",
       "</table>\n",
       "</div>"
      ],
      "text/plain": [
       "   lp__  accept_stat__     y         p  ratio\n",
       "0   0.0            0.0  11.0  0.158566   0.22\n",
       "1   0.0            0.0   1.0  0.012287   0.02\n",
       "2   0.0            0.0   7.0  0.180746   0.14\n",
       "3   0.0            0.0  18.0  0.312993   0.36\n",
       "4   0.0            0.0   9.0  0.136967   0.18"
      ]
     },
     "execution_count": 4,
     "metadata": {},
     "output_type": "execute_result"
    }
   ],
   "source": [
    "samples_df1['ratio'] = samples_df1['y'] / 50\n",
    "samples_df1.head()"
   ]
  },
  {
   "cell_type": "code",
   "execution_count": 5,
   "metadata": {},
   "outputs": [
    {
     "data": {
      "image/png": "[encoded data removed]",
      "text/plain": [
       "<Figure size 864x360 with 2 Axes>"
      ]
     },
     "metadata": {
      "needs_background": "light"
     },
     "output_type": "display_data"
    }
   ],
   "source": [
    "fig, ax = plt.subplots(nrows=1, ncols=2, figsize=(12,5))\n",
    "sns.histplot(data=samples_df1, x=\"y\", stat=\"density\", ax=ax[0], bins=33)\n",
    "sns.histplot(data=samples_df1, x=\"p\", stat=\"density\", ax=ax[1], bins=33)\n",
    "plt.show()"
   ]
  },
  {
   "cell_type": "code",
   "execution_count": 6,
   "metadata": {},
   "outputs": [
    {
     "data": {
      "image/png": "[encoded data removed]",
      "text/plain": [
       "<Figure size 864x576 with 1 Axes>"
      ]
     },
     "metadata": {
      "needs_background": "light"
     },
     "output_type": "display_data"
    }
   ],
   "source": [
    "fig, ax = plt.subplots(nrows=1, ncols=1, figsize=(12,8))\n",
    "sns.histplot(data=samples_df1, x=\"ratio\", ax=ax, bins=33)\n",
    "mean_ratio = np.mean(samples_df1['ratio'])\n",
    "\n",
    "y_min, y_max = plt.ylim()\n",
    "plt.axvline(mean_ratio, color='red')\n",
    "plt.text(1.1 * mean_ratio, (y_min + y_max)/(6/5), \"mean_ratio = {}\".format(mean_ratio), color='red', fontsize=14)\n",
    "plt.grid()\n",
    "plt.tight_layout()\n",
    "plt.show()\n"
   ]
  },
  {
   "attachments": {},
   "cell_type": "markdown",
   "metadata": {},
   "source": [
    "## Modeling posterior and posterior predictive distribution"
   ]
  },
  {
   "cell_type": "code",
   "execution_count": 47,
   "metadata": {},
   "outputs": [
    {
     "name": "stderr",
     "output_type": "stream",
     "text": [
      "INFO:cmdstanpy:found newer exe file, not recompiling\n",
      "INFO:cmdstanpy:CmdStan start processing\n",
      "chain 1 |\u001b[33m          \u001b[0m| 00:00 Status\n",
      "\u001b[A\n",
      "\n",
      "\u001b[A\u001b[A\n",
      "\n",
      "\u001b[A\u001b[A\n",
      "chain 1 |\u001b[34m██████████\u001b[0m| 00:00 Sampling completed\n",
      "chain 2 |\u001b[34m██████████\u001b[0m| 00:00 Sampling completed\n",
      "chain 3 |\u001b[34m██████████\u001b[0m| 00:00 Sampling completed\n",
      "chain 4 |\u001b[34m██████████\u001b[0m| 00:00 Sampling completed"
     ]
    },
    {
     "name": "stdout",
     "output_type": "stream",
     "text": [
      "                                                                                "
     ]
    },
    {
     "name": "stderr",
     "output_type": "stream",
     "text": [
      "\n"
     ]
    },
    {
     "name": "stdout",
     "output_type": "stream",
     "text": [
      "                                                                                                                                                                                                                                                "
     ]
    },
    {
     "name": "stderr",
     "output_type": "stream",
     "text": [
      "INFO:cmdstanpy:CmdStan done processing.\n"
     ]
    },
    {
     "name": "stdout",
     "output_type": "stream",
     "text": [
      "\n"
     ]
    }
   ],
   "source": [
    "# Compile the Stan model\n",
    "model2 = cmdstanpy.CmdStanModel(stan_file='/home/3_Prior_and_Posterior_predictive_distributions/stan_model2.stan')\n",
    "\n",
    "samples2 = model2.sample(data={\"N\":50, 'y':7})"
   ]
  },
  {
   "cell_type": "code",
   "execution_count": 34,
   "metadata": {},
   "outputs": [
    {
     "data": {
      "text/html": [
       "<div>\n",
       "<style scoped>\n",
       "    .dataframe tbody tr th:only-of-type {\n",
       "        vertical-align: middle;\n",
       "    }\n",
       "\n",
       "    .dataframe tbody tr th {\n",
       "        vertical-align: top;\n",
       "    }\n",
       "\n",
       "    .dataframe thead th {\n",
       "        text-align: right;\n",
       "    }\n",
       "</style>\n",
       "<table border=\"1\" class=\"dataframe\">\n",
       "  <thead>\n",
       "    <tr style=\"text-align: right;\">\n",
       "      <th></th>\n",
       "      <th>lp__</th>\n",
       "      <th>accept_stat__</th>\n",
       "      <th>stepsize__</th>\n",
       "      <th>treedepth__</th>\n",
       "      <th>n_leapfrog__</th>\n",
       "      <th>divergent__</th>\n",
       "      <th>energy__</th>\n",
       "      <th>p</th>\n",
       "      <th>y_pred</th>\n",
       "    </tr>\n",
       "  </thead>\n",
       "  <tbody>\n",
       "    <tr>\n",
       "      <th>0</th>\n",
       "      <td>-25.7025</td>\n",
       "      <td>1.000000</td>\n",
       "      <td>0.853494</td>\n",
       "      <td>1.0</td>\n",
       "      <td>1.0</td>\n",
       "      <td>0.0</td>\n",
       "      <td>26.0911</td>\n",
       "      <td>0.190583</td>\n",
       "      <td>10.0</td>\n",
       "    </tr>\n",
       "    <tr>\n",
       "      <th>1</th>\n",
       "      <td>-25.9562</td>\n",
       "      <td>0.943162</td>\n",
       "      <td>0.853494</td>\n",
       "      <td>1.0</td>\n",
       "      <td>1.0</td>\n",
       "      <td>0.0</td>\n",
       "      <td>25.9820</td>\n",
       "      <td>0.204673</td>\n",
       "      <td>13.0</td>\n",
       "    </tr>\n",
       "    <tr>\n",
       "      <th>2</th>\n",
       "      <td>-25.7317</td>\n",
       "      <td>1.000000</td>\n",
       "      <td>0.853494</td>\n",
       "      <td>1.0</td>\n",
       "      <td>1.0</td>\n",
       "      <td>0.0</td>\n",
       "      <td>25.9392</td>\n",
       "      <td>0.192402</td>\n",
       "      <td>14.0</td>\n",
       "    </tr>\n",
       "    <tr>\n",
       "      <th>3</th>\n",
       "      <td>-25.5151</td>\n",
       "      <td>1.000000</td>\n",
       "      <td>0.853494</td>\n",
       "      <td>2.0</td>\n",
       "      <td>3.0</td>\n",
       "      <td>0.0</td>\n",
       "      <td>25.6864</td>\n",
       "      <td>0.176631</td>\n",
       "      <td>8.0</td>\n",
       "    </tr>\n",
       "    <tr>\n",
       "      <th>4</th>\n",
       "      <td>-25.4128</td>\n",
       "      <td>0.999749</td>\n",
       "      <td>0.853494</td>\n",
       "      <td>2.0</td>\n",
       "      <td>7.0</td>\n",
       "      <td>0.0</td>\n",
       "      <td>25.5112</td>\n",
       "      <td>0.135787</td>\n",
       "      <td>6.0</td>\n",
       "    </tr>\n",
       "  </tbody>\n",
       "</table>\n",
       "</div>"
      ],
      "text/plain": [
       "      lp__  accept_stat__  stepsize__  treedepth__  n_leapfrog__  divergent__  \\\n",
       "0 -25.7025       1.000000    0.853494          1.0           1.0          0.0   \n",
       "1 -25.9562       0.943162    0.853494          1.0           1.0          0.0   \n",
       "2 -25.7317       1.000000    0.853494          1.0           1.0          0.0   \n",
       "3 -25.5151       1.000000    0.853494          2.0           3.0          0.0   \n",
       "4 -25.4128       0.999749    0.853494          2.0           7.0          0.0   \n",
       "\n",
       "   energy__         p  y_pred  \n",
       "0   26.0911  0.190583    10.0  \n",
       "1   25.9820  0.204673    13.0  \n",
       "2   25.9392  0.192402    14.0  \n",
       "3   25.6864  0.176631     8.0  \n",
       "4   25.5112  0.135787     6.0  "
      ]
     },
     "execution_count": 34,
     "metadata": {},
     "output_type": "execute_result"
    }
   ],
   "source": [
    "samples_df2 = samples2.draws_pd()\n",
    "samples_df2.head()"
   ]
  },
  {
   "cell_type": "code",
   "execution_count": 35,
   "metadata": {},
   "outputs": [
    {
     "data": {
      "text/html": [
       "<div>\n",
       "<style scoped>\n",
       "    .dataframe tbody tr th:only-of-type {\n",
       "        vertical-align: middle;\n",
       "    }\n",
       "\n",
       "    .dataframe tbody tr th {\n",
       "        vertical-align: top;\n",
       "    }\n",
       "\n",
       "    .dataframe thead th {\n",
       "        text-align: right;\n",
       "    }\n",
       "</style>\n",
       "<table border=\"1\" class=\"dataframe\">\n",
       "  <thead>\n",
       "    <tr style=\"text-align: right;\">\n",
       "      <th></th>\n",
       "      <th>lp__</th>\n",
       "      <th>accept_stat__</th>\n",
       "      <th>stepsize__</th>\n",
       "      <th>treedepth__</th>\n",
       "      <th>n_leapfrog__</th>\n",
       "      <th>divergent__</th>\n",
       "      <th>energy__</th>\n",
       "      <th>p</th>\n",
       "      <th>y_pred</th>\n",
       "      <th>ratio</th>\n",
       "    </tr>\n",
       "  </thead>\n",
       "  <tbody>\n",
       "    <tr>\n",
       "      <th>0</th>\n",
       "      <td>-25.7025</td>\n",
       "      <td>1.000000</td>\n",
       "      <td>0.853494</td>\n",
       "      <td>1.0</td>\n",
       "      <td>1.0</td>\n",
       "      <td>0.0</td>\n",
       "      <td>26.0911</td>\n",
       "      <td>0.190583</td>\n",
       "      <td>10.0</td>\n",
       "      <td>0.20</td>\n",
       "    </tr>\n",
       "    <tr>\n",
       "      <th>1</th>\n",
       "      <td>-25.9562</td>\n",
       "      <td>0.943162</td>\n",
       "      <td>0.853494</td>\n",
       "      <td>1.0</td>\n",
       "      <td>1.0</td>\n",
       "      <td>0.0</td>\n",
       "      <td>25.9820</td>\n",
       "      <td>0.204673</td>\n",
       "      <td>13.0</td>\n",
       "      <td>0.26</td>\n",
       "    </tr>\n",
       "    <tr>\n",
       "      <th>2</th>\n",
       "      <td>-25.7317</td>\n",
       "      <td>1.000000</td>\n",
       "      <td>0.853494</td>\n",
       "      <td>1.0</td>\n",
       "      <td>1.0</td>\n",
       "      <td>0.0</td>\n",
       "      <td>25.9392</td>\n",
       "      <td>0.192402</td>\n",
       "      <td>14.0</td>\n",
       "      <td>0.28</td>\n",
       "    </tr>\n",
       "    <tr>\n",
       "      <th>3</th>\n",
       "      <td>-25.5151</td>\n",
       "      <td>1.000000</td>\n",
       "      <td>0.853494</td>\n",
       "      <td>2.0</td>\n",
       "      <td>3.0</td>\n",
       "      <td>0.0</td>\n",
       "      <td>25.6864</td>\n",
       "      <td>0.176631</td>\n",
       "      <td>8.0</td>\n",
       "      <td>0.16</td>\n",
       "    </tr>\n",
       "    <tr>\n",
       "      <th>4</th>\n",
       "      <td>-25.4128</td>\n",
       "      <td>0.999749</td>\n",
       "      <td>0.853494</td>\n",
       "      <td>2.0</td>\n",
       "      <td>7.0</td>\n",
       "      <td>0.0</td>\n",
       "      <td>25.5112</td>\n",
       "      <td>0.135787</td>\n",
       "      <td>6.0</td>\n",
       "      <td>0.12</td>\n",
       "    </tr>\n",
       "  </tbody>\n",
       "</table>\n",
       "</div>"
      ],
      "text/plain": [
       "      lp__  accept_stat__  stepsize__  treedepth__  n_leapfrog__  divergent__  \\\n",
       "0 -25.7025       1.000000    0.853494          1.0           1.0          0.0   \n",
       "1 -25.9562       0.943162    0.853494          1.0           1.0          0.0   \n",
       "2 -25.7317       1.000000    0.853494          1.0           1.0          0.0   \n",
       "3 -25.5151       1.000000    0.853494          2.0           3.0          0.0   \n",
       "4 -25.4128       0.999749    0.853494          2.0           7.0          0.0   \n",
       "\n",
       "   energy__         p  y_pred  ratio  \n",
       "0   26.0911  0.190583    10.0   0.20  \n",
       "1   25.9820  0.204673    13.0   0.26  \n",
       "2   25.9392  0.192402    14.0   0.28  \n",
       "3   25.6864  0.176631     8.0   0.16  \n",
       "4   25.5112  0.135787     6.0   0.12  "
      ]
     },
     "execution_count": 35,
     "metadata": {},
     "output_type": "execute_result"
    }
   ],
   "source": [
    "samples_df2['ratio'] = samples_df2['y_pred'] / 50\n",
    "samples_df2.head()"
   ]
  },
  {
   "cell_type": "code",
   "execution_count": 36,
   "metadata": {},
   "outputs": [
    {
     "data": {
      "image/png": "[encoded data removed]",
      "text/plain": [
       "<Figure size 864x360 with 2 Axes>"
      ]
     },
     "metadata": {
      "needs_background": "light"
     },
     "output_type": "display_data"
    }
   ],
   "source": [
    "fig, ax = plt.subplots(nrows=1, ncols=2, figsize=(12,5))\n",
    "sns.histplot(data=samples_df2, x=\"y_pred\", stat=\"density\", ax=ax[0], bins=23)\n",
    "sns.histplot(data=samples_df2, x=\"p\", stat=\"density\", ax=ax[1], bins=23)\n",
    "plt.show()"
   ]
  },
  {
   "cell_type": "code",
   "execution_count": 37,
   "metadata": {},
   "outputs": [
    {
     "data": {
      "image/png": "[encoded data removed]",
      "text/plain": [
       "<Figure size 864x576 with 1 Axes>"
      ]
     },
     "metadata": {
      "needs_background": "light"
     },
     "output_type": "display_data"
    }
   ],
   "source": [
    "fig, ax = plt.subplots(nrows=1, ncols=1, figsize=(12,8))\n",
    "sns.histplot(data=samples_df2, x=\"ratio\", ax=ax, bins=23)\n",
    "mean_ratio = np.mean(samples_df2['ratio'])\n",
    "\n",
    "y_min, y_max = plt.ylim()\n",
    "plt.axvline(mean_ratio, color='red')\n",
    "plt.text(1.1 * mean_ratio, (y_min + y_max)/(8/7), \"mean_ratio = {}\".format(mean_ratio), color='red', fontsize=14)\n",
    "plt.grid()\n",
    "plt.tight_layout()\n",
    "plt.show()"
   ]
  },
  {
   "cell_type": "code",
   "execution_count": 48,
   "metadata": {},
   "outputs": [
    {
     "data": {
      "image/png": "[encoded data removed]",
      "text/plain": [
       "<Figure size 864x432 with 2 Axes>"
      ]
     },
     "metadata": {
      "needs_background": "light"
     },
     "output_type": "display_data"
    }
   ],
   "source": [
    "# 4\n",
    "import arviz as az \n",
    "_, ax = plt.subplots(nrows=1, ncols=2, figsize=[12,6])\n",
    "az.plot_posterior(samples_df2['ratio'].to_numpy(), kind='hist', hdi_prob=0.94, point_estimate='mean', ax=ax[0])\n",
    "ax[0].set_title(\"ratio\")\n",
    "az.plot_posterior(samples_df2['p'].to_numpy(), kind='hist', hdi_prob=0.94, point_estimate='mean', ax=ax[1])\n",
    "ax[1].set_title(\"p\")\n",
    "plt.tight_layout()\n",
    "plt.show()"
   ]
  },
  {
   "cell_type": "code",
   "execution_count": 55,
   "metadata": {},
   "outputs": [
    {
     "name": "stdout",
     "output_type": "stream",
     "text": [
      "Ratio:\n",
      "Mean:\t 0.14801  \t94% HDI:\t [0.02 0.26]\n",
      "\n",
      "p:\n",
      "Mean:\t 0.14842  \t94% HDI:\t [0.0673634 0.231337 ]\n"
     ]
    }
   ],
   "source": [
    "p = samples_df2['p'].to_numpy()\n",
    "ratio = samples_df2['ratio'].to_numpy()\n",
    "print(\"Ratio:\\nMean:\\t\", round(mean_ratio,5), \" \\t94% HDI:\\t\", az.hdi(ratio, hdi_prob=0.94))\n",
    "print(\"\\np:\\nMean:\\t\", round(np.mean(p),5), \" \\t94% HDI:\\t\", az.hdi(p, hdi_prob=0.94))"
   ]
  },
  {
   "cell_type": "code",
   "execution_count": 56,
   "metadata": {},
   "outputs": [
    {
     "name": "stdout",
     "output_type": "stream",
     "text": [
      "0.75175\n"
     ]
    }
   ],
   "source": [
    "# 5\n",
    "print(np.mean(ratio < 0.2))"
   ]
  },
  {
   "attachments": {},
   "cell_type": "markdown",
   "metadata": {},
   "source": [
    "### stan_model1.stan\n",
    "```\n",
    "data {\n",
    "    int<lower=0> N;\n",
    "}\n",
    "\n",
    "generated quantities {\n",
    "  int<lower=0, upper=N> y;\n",
    "  real<lower=0, upper=1> p = beta_rng(2, 8); // using beta distribution as prior\n",
    "  y = binomial_rng(N, p);\n",
    "}\n",
    "```\n",
    "### stan_model2.stan\n",
    "```\n",
    "data {\n",
    "  int<lower=0> N;\n",
    "  int<lower=0, upper=N> y;\n",
    "}\n",
    "\n",
    "parameters {\n",
    "  real<lower=0, upper=1> p;\n",
    "}\n",
    "\n",
    "model {\n",
    "  p ~ beta(2, 8);\n",
    "  y ~ binomial(N, p);\n",
    "}\n",
    "\n",
    "generated quantities {\n",
    "  int<lower=0, upper=N> y_pred = binomial_rng(N, p);\n",
    "}\n",
    "```"
   ]
  }
 ],
 "metadata": {
  "kernelspec": {
   "display_name": "Python 3",
   "language": "python",
   "name": "python3"
  },
  "language_info": {
   "codemirror_mode": {
    "name": "ipython",
    "version": 3
   },
   "file_extension": ".py",
   "mimetype": "text/x-python",
   "name": "python",
   "nbconvert_exporter": "python",
   "pygments_lexer": "ipython3",
   "version": "3.9.11"
  },
  "orig_nbformat": 4
 },
 "nbformat": 4,
 "nbformat_minor": 2
}
